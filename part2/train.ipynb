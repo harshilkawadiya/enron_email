{
 "cells": [
  {
   "cell_type": "code",
   "execution_count": 1,
   "metadata": {},
   "outputs": [
    {
     "ename": "ModuleNotFoundError",
     "evalue": "No module named 'torch'",
     "output_type": "error",
     "traceback": [
      "\u001b[0;31m---------------------------------------------------------------------------\u001b[0m",
      "\u001b[0;31mModuleNotFoundError\u001b[0m                       Traceback (most recent call last)",
      "\u001b[0;32m<ipython-input-1-3acce481193f>\u001b[0m in \u001b[0;36m<module>\u001b[0;34m\u001b[0m\n\u001b[0;32m----> 1\u001b[0;31m \u001b[0;32mimport\u001b[0m \u001b[0mtorch\u001b[0m\u001b[0;34m\u001b[0m\u001b[0;34m\u001b[0m\u001b[0m\n\u001b[0m\u001b[1;32m      2\u001b[0m \u001b[0;32mfrom\u001b[0m \u001b[0mvec_builder\u001b[0m \u001b[0;32mimport\u001b[0m \u001b[0mVecsBuilder\u001b[0m\u001b[0;34m\u001b[0m\u001b[0;34m\u001b[0m\u001b[0m\n\u001b[1;32m      3\u001b[0m \u001b[0;32mfrom\u001b[0m \u001b[0mdata_loader\u001b[0m \u001b[0;32mimport\u001b[0m \u001b[0mLoader\u001b[0m\u001b[0;34m\u001b[0m\u001b[0;34m\u001b[0m\u001b[0m\n\u001b[1;32m      4\u001b[0m \u001b[0;32mfrom\u001b[0m \u001b[0mmodels\u001b[0m \u001b[0;32mimport\u001b[0m \u001b[0mClassifier\u001b[0m\u001b[0;34m\u001b[0m\u001b[0;34m\u001b[0m\u001b[0m\n\u001b[1;32m      5\u001b[0m \u001b[0;32mimport\u001b[0m \u001b[0mtorch\u001b[0m\u001b[0;34m.\u001b[0m\u001b[0mnn\u001b[0m \u001b[0;32mas\u001b[0m \u001b[0mnn\u001b[0m\u001b[0;34m\u001b[0m\u001b[0;34m\u001b[0m\u001b[0m\n",
      "\u001b[0;31mModuleNotFoundError\u001b[0m: No module named 'torch'"
     ]
    }
   ],
   "source": [
    "import torch\n",
    "from vec_builder import VecsBuilder\n",
    "from data_loader import Loader\n",
    "from models import Classifier\n",
    "import torch.nn as nn\n",
    "import os\n"
   ]
  },
  {
   "cell_type": "code",
   "execution_count": null,
   "metadata": {},
   "outputs": [],
   "source": [
    "vecs_builder = VecsBuilder(vecs_path='./glove/glove.6B.100d.txt')\n",
    "vecs = vecs_builder.get_data()\n",
    "\n"
   ]
  },
  {
   "cell_type": "code",
   "execution_count": null,
   "metadata": {},
   "outputs": [],
   "source": [
    "def train(model,train_loader):\n",
    "\tmodel.train()\n",
    "\toptim = torch.optim.Adam(filter(lambda p: p.requires_grad, model.parameters()))\n",
    "\ttrain_loss_epoch = 0\n",
    "\tsteps = 0\n",
    "\tnum_correct = 0\n",
    "\tfor (label,target) in train_loader:\n",
    "\t\tif torch.cuda.is_available():\n",
    "\t\t\tlabel =  label.cuda()\n",
    "\t\t\ttarget = target.cuda()\n",
    "\t\toptim.zero_grad()\n",
    "\t\tpred =  model(label)\n",
    "\t\tloss = loss_ce(pred,target)\n",
    "\t\tnum_correct += (torch.max(pred, 1)[1].view(target.size()).data == target.data).sum()\n",
    "\t\tloss.backward()\n",
    "\t\toptim.step()\n",
    "\t\tsteps+=1\n",
    "\t\ttrain_loss_epoch += loss.item()\n",
    "\treturn train_loss_epoch/train_loader.num_samples,num_correct.item()/train_loader.num_samples\n",
    "\n"
   ]
  },
  {
   "cell_type": "code",
   "execution_count": null,
   "metadata": {},
   "outputs": [],
   "source": [
    "def eval(model,val_loader):\n",
    "\tmodel.eval()\n",
    "\toptim = torch.optim.Adam(filter(lambda p: p.requires_grad, model.parameters()))\n",
    "\tval_loss_epoch = 0\n",
    "\tsteps = 0\n",
    "\tnum_correct = 0\n",
    "\tfor (label,target) in val_loader:\n",
    "\t\tif torch.cuda.is_available():\n",
    "\t\t\tlabel =  label.cuda()\n",
    "\t\t\ttarget = target.cuda()\n",
    "\n",
    "\t\toptim.zero_grad()\n",
    "\t\tpred =  model(label)\n",
    "\t\tloss = loss_ce(pred,target)\n",
    "\t\tnum_correct += (torch.max(pred, 1)[1].view(target.size()).data == target.data).sum()\n",
    "\t\toptim.step()\n",
    "\t\tsteps+=1\n",
    "\n",
    "\t\tval_loss_epoch += loss.item()\n",
    "\treturn val_loss_epoch/val_loader.num_samples,num_correct.item()/val_loader.num_samples\n",
    "\n"
   ]
  },
  {
   "cell_type": "code",
   "execution_count": null,
   "metadata": {},
   "outputs": [],
   "source": [
    "max_length = 25\n",
    "num_classes = 2\n",
    "hidden_dim = 200\n",
    "embed_dim = 100\n",
    "num_epochs = 100\n",
    "model = Classifier(embed_dim, hidden_dim,num_classes)\n",
    "if torch.cuda.is_available():\n",
    "\tmodel.cuda()\n",
    "train_loader = Loader(max_length,vecs,'train')\n",
    "val_loader = Loader(max_length,vecs,'val')\n",
    "loss_ce = nn.CrossEntropyLoss()\n",
    "best_acc = 0\n"
   ]
  },
  {
   "cell_type": "code",
   "execution_count": null,
   "metadata": {},
   "outputs": [],
   "source": [
    "for epoch in range(num_epochs):\n",
    "\ttrain_loss,train_acc = train(model,train_loader)\n",
    "\tval_loss,val_acc = eval(model,val_loader)\n",
    "\tprint('Epoch : ',epoch)\n",
    "\tprint('Train Loss : ',train_loss)\n",
    "\tprint('Train Acc : ',train_acc)\n",
    "\tprint('Validation Loss : ',val_loss)\n",
    "\tprint('Validation Acc : ',val_acc)\n",
    "\tif val_acc>best_acc:\n",
    "\t\tbest_acc = val_acc\n",
    "\t\tbest_model = 'best.pkl'\n",
    "\t\ttorch.save(model.state_dict(),best_model)\n",
    "\t\tprint('Best Model Saved with Valdn Accuracy :',val_acc)\n",
    "\tprint('--------------------------------------------------\\n\\n')\n"
   ]
  }
 ],
 "metadata": {
  "kernelspec": {
   "display_name": "Python 3",
   "language": "python",
   "name": "python3"
  },
  "language_info": {
   "codemirror_mode": {
    "name": "ipython",
    "version": 3
   },
   "file_extension": ".py",
   "mimetype": "text/x-python",
   "name": "python",
   "nbconvert_exporter": "python",
   "pygments_lexer": "ipython3",
   "version": "3.7.4"
  }
 },
 "nbformat": 4,
 "nbformat_minor": 2
}
